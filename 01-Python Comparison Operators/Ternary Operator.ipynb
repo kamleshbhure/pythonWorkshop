{
 "cells": [
  {
   "cell_type": "markdown",
   "id": "47c2a3c6",
   "metadata": {},
   "source": [
    "# Ternary Operator\n",
    "\n",
    "This has been introduced in Python 2.5\n",
    "It is as below in python:\n",
    "\n",
    "[on_true] if [expression] else [on_false]\n"
   ]
  },
  {
   "cell_type": "code",
   "execution_count": 5,
   "id": "32264d92",
   "metadata": {},
   "outputs": [
    {
     "name": "stdout",
     "output_type": "stream",
     "text": [
      "25\n"
     ]
    }
   ],
   "source": [
    "x, y = 50, 25\n",
    "small = x if x < y else y\n",
    "\n",
    "print(small)"
   ]
  }
 ],
 "metadata": {
  "kernelspec": {
   "display_name": "Python 3",
   "language": "python",
   "name": "python3"
  },
  "language_info": {
   "codemirror_mode": {
    "name": "ipython",
    "version": 3
   },
   "file_extension": ".py",
   "mimetype": "text/x-python",
   "name": "python",
   "nbconvert_exporter": "python",
   "pygments_lexer": "ipython3",
   "version": "3.8.8"
  }
 },
 "nbformat": 4,
 "nbformat_minor": 5
}
