{
 "cells": [
  {
   "cell_type": "markdown",
   "id": "9a2479c5",
   "metadata": {},
   "source": [
    "# Bitwise Operators \n",
    "\n",
    "\n",
    "In this lecture we will be learning about Bitwise Operators in Python. \n",
    "\n",
    "<h2> Table of Bitwise Operators </h2>\n",
    "<table class=\"table table-bordered\" >\n",
    "<tr>\n",
    "<th style=\"width:10%\">Operator</th><th style=\"width:70%\">Description</th><th>Example</th>\n",
    "</tr>\n",
    "<tr>\n",
    "<td>&</td>\n",
    "<td>Bitwise AND</td>\n",
    "<td> x & y </td>\n",
    "</tr>\n",
    "<tr>\n",
    "<td>|</td>\n",
    "<td>Bitwise OR</td>\n",
    "<td>x | y</td>\n",
    "</tr>\n",
    "<tr>\n",
    "<td>~</td>\n",
    "<td>Bitwise NOT</td>\n",
    "<td> ~x </td>\n",
    "</tr>\n",
    "<tr>\n",
    "<td>^</td>\n",
    "<td>Bitwise XOR</td>\n",
    "<td> x ^ y </td>\n",
    "</tr>\n",
    "<tr>\n",
    "<td> >> </td>\n",
    "<td>Bitwise right shift</td>\n",
    "<td> x>> </td>\n",
    "</tr>\n",
    "<tr>\n",
    "<td> << </td>\n",
    "<td>Bitwise left shift</td>\n",
    "<td> x<< </td>\n",
    "</tr>\n",
    "</table>"
   ]
  },
  {
   "cell_type": "code",
   "execution_count": 2,
   "id": "708ba414",
   "metadata": {},
   "outputs": [],
   "source": [
    "a = 10 #1010 (Binary)\n",
    "b = 4 #0100 (Binary)\n"
   ]
  },
  {
   "cell_type": "code",
   "execution_count": 3,
   "id": "9c477616",
   "metadata": {},
   "outputs": [
    {
     "data": {
      "text/plain": [
       "0"
      ]
     },
     "execution_count": 3,
     "metadata": {},
     "output_type": "execute_result"
    }
   ],
   "source": [
    "a & b\n",
    "\n",
    "# a & b = 1010 & 0100  = 0000 = 0 (Decimal)"
   ]
  },
  {
   "cell_type": "code",
   "execution_count": 4,
   "id": "1a55b443",
   "metadata": {},
   "outputs": [
    {
     "data": {
      "text/plain": [
       "14"
      ]
     },
     "execution_count": 4,
     "metadata": {},
     "output_type": "execute_result"
    }
   ],
   "source": [
    "a | b\n",
    "#a | b = 1010  | 0100 = 1110 = 14 (Decimal)"
   ]
  },
  {
   "cell_type": "code",
   "execution_count": 5,
   "id": "217109b8",
   "metadata": {},
   "outputs": [],
   "source": [
    "a = 10 # 1010 (Binary)\n",
    "\n",
    "# ~a = ~1010 = -(1010 + 1) = -(1011) = -11 (Decimal)"
   ]
  },
  {
   "cell_type": "code",
   "execution_count": 6,
   "id": "4346471e",
   "metadata": {},
   "outputs": [
    {
     "data": {
      "text/plain": [
       "-11"
      ]
     },
     "execution_count": 6,
     "metadata": {},
     "output_type": "execute_result"
    }
   ],
   "source": [
    "~a"
   ]
  },
  {
   "cell_type": "code",
   "execution_count": 7,
   "id": "2501fa17",
   "metadata": {},
   "outputs": [
    {
     "data": {
      "text/plain": [
       "14"
      ]
     },
     "execution_count": 7,
     "metadata": {},
     "output_type": "execute_result"
    }
   ],
   "source": [
    "a ^ b\n",
    "# a ^ b = 1010 ^ 0100 = 1110 = 14 (Decimal)"
   ]
  },
  {
   "cell_type": "code",
   "execution_count": 9,
   "id": "953a8181",
   "metadata": {},
   "outputs": [
    {
     "data": {
      "text/plain": [
       "5"
      ]
     },
     "execution_count": 9,
     "metadata": {},
     "output_type": "execute_result"
    }
   ],
   "source": [
    "a >> 1\n",
    "# a = 10 = 0000 1010 (Binary)\n",
    "# a >> 1 = 0000 0101 = 5"
   ]
  },
  {
   "cell_type": "code",
   "execution_count": 11,
   "id": "857bf3dc",
   "metadata": {},
   "outputs": [
    {
     "data": {
      "text/plain": [
       "20"
      ]
     },
     "execution_count": 11,
     "metadata": {},
     "output_type": "execute_result"
    }
   ],
   "source": [
    "a << 1\n",
    "# a = 10 = 0000 1010 (Binary)\n",
    "# a << 1 = 0001 0100 = 20"
   ]
  }
 ],
 "metadata": {
  "kernelspec": {
   "display_name": "Python 3",
   "language": "python",
   "name": "python3"
  },
  "language_info": {
   "codemirror_mode": {
    "name": "ipython",
    "version": 3
   },
   "file_extension": ".py",
   "mimetype": "text/x-python",
   "name": "python",
   "nbconvert_exporter": "python",
   "pygments_lexer": "ipython3",
   "version": "3.8.8"
  }
 },
 "nbformat": 4,
 "nbformat_minor": 5
}
